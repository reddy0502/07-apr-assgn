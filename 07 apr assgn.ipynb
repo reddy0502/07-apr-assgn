{
 "cells": [
  {
   "cell_type": "markdown",
   "id": "78202ee2-36e6-47a6-9d45-3bc87c7c9d4e",
   "metadata": {},
   "source": [
    "1ans:\n",
    "\n",
    "The polynomial kernel function takes two input vectors and computes the dot product of their polynomial expansion. The degree of the polynomial expansion can be adjusted to increase or decrease the complexity of the decision boundary.\n",
    "\n",
    " polynomial functions are a type of kernel function used in machine learning algorithms to map data to a higher-dimensional space. They can be used to create complex decision boundaries by transforming the input features into higher-order polynomial features."
   ]
  },
  {
   "cell_type": "markdown",
   "id": "85659123-a46e-4f1d-96cf-0cb9af912622",
   "metadata": {},
   "source": [
    "2ans:\n",
    "    \n",
    "Import the necessary libraries:\n",
    "\n",
    "from sklearn import datasets\n",
    "from sklearn.pipeline import make_pipeline\n",
    "from sklearn.preprocessing import StandardScaler\n",
    "from sklearn.svm import SVC\n",
    "Load the dataset:\n",
    "\n",
    "iris = datasets.load_iris()\n",
    "X = iris.data[:, :2]  # we will only use the first two features for simplicity\n",
    "y = iris.target\n",
    "Split the dataset into training and testing sets:\n",
    "\n",
    "from sklearn.model_selection import train_test_split\n",
    "\n",
    "X_train, X_test, y_train, y_test = train_test_split(X, y, test_size=0.2, random_state=42)\n",
    "Create the SVM classifier with a polynomial kernel:\n",
    "\n",
    "svm_poly = make_pipeline(StandardScaler(), SVC(kernel='poly', degree=3, C=1))\n",
    "Here, we have created an SVM classifier with a polynomial kernel of degree 3 and regularization parameter C=1. We have also used StandardScaler to scale the features.\n",
    "\n",
    "Train the SVM classifier on the training set:\n",
    "\n",
    "svm_poly.fit(X_train, y_train)\n",
    "Predict the labels for the testing set:\n",
    "\n",
    "y_pred = svm_poly.predict(X_test)\n",
    "Evaluate the performance of the model using accuracy score:\n",
    "\n",
    "from sklearn.metrics import accuracy_score\n",
    "\n",
    "accuracy = accuracy_score(y_test, y_pred)\n",
    "print(\"Accuracy:\", accuracy)\n",
    "Plot the decision boundary:\n",
    "\n",
    "import matplotlib.pyplot as plt\n",
    "import numpy as np\n",
    "\n",
    "# Create a meshgrid of the feature space\n",
    "xx, yy = np.meshgrid(np.linspace(X[:, 0].min()-1, X[:, 0].max()+1, 100),\n",
    "                     np.linspace(X[:, 1].min()-1, X[:, 1].max()+1, 100))\n",
    "\n",
    "# Make predictions on the meshgrid\n",
    "Z = svm_poly.predict(np.c_[xx.ravel(), yy.ravel()])\n",
    "\n",
    "# Plot the decision boundary and the data points\n",
    "Z = Z.reshape(xx.shape)\n",
    "plt.contourf(xx, yy, Z, alpha=0.4)\n",
    "plt.scatter(X[:, 0], X[:, 1], c=y, alpha=0.8)\n",
    "plt.xlabel('Feature 1')\n",
    "plt.ylabel('Feature 2')\n",
    "plt.show()"
   ]
  },
  {
   "cell_type": "markdown",
   "id": "d214b0e6-02b1-4bb8-9f0d-045e17e9b1c3",
   "metadata": {},
   "source": [
    "3ans:\n",
    "\n",
    "In support vector regression (SVR), epsilon is the margin of error that is allowed in the prediction. Increasing the value of epsilon results in a wider margin and hence a larger number of support vectors.\n",
    "\n",
    "This is because when epsilon is increased, more data points can fall within the margin of error and still be considered correctly predicted. To accommodate these data points, the margin needs to be widened, which requires the inclusion of more support vectors. Conversely, decreasing the value of epsilon would result in a smaller margin and fewer support vectors."
   ]
  },
  {
   "cell_type": "markdown",
   "id": "7173ce19-16a3-4be9-b37d-227ca411be36",
   "metadata": {},
   "source": [
    "4ans:\n",
    "\n",
    "Kernel function: The choice of kernel function determines how the SVR maps the input data into a higher-dimensional space. A kernel function allows SVR to handle non-linearly separable data by implicitly transforming it into a higher-dimensional space. Commonly used kernel functions in SVR include linear, polynomial, and radial basis function (RBF).\n",
    "\n",
    "C parameter: The C parameter controls the trade-off between maximizing the margin and minimizing the training error. A smaller value of C will result in a wider margin and more margin violations, while a larger value of C will result in a narrower margin and fewer margin violations. In general, a larger value of C can result in better performance on the training data but may lead to overfitting. A smaller value of C may result in a better fit on the test data but may result in underfitting.\n",
    "\n",
    "Epsilon parameter: The epsilon parameter specifies the margin of error that is allowed in the prediction. A larger value of epsilon results in a wider margin and more margin violations, while a smaller value of epsilon results in a narrower margin and fewer margin violations. Increasing epsilon may result in a smoother fit, which can be useful for noisy data or when the goal is to avoid overfitting.\n",
    "\n",
    "Gamma parameter: The gamma parameter controls the shape of the decision boundary. A larger value of gamma results in a more complex decision boundary that can capture finer details in the data, while a smaller value of gamma results in a simpler decision boundary. A larger value of gamma can result in better performance on the training data but may lead to overfitting. A smaller value of gamma may result in better performance on the test data but may lead to underfitting."
   ]
  },
  {
   "cell_type": "code",
   "execution_count": null,
   "id": "9456f7f4-d6ae-47c1-a3a7-0a2d83601549",
   "metadata": {},
   "outputs": [],
   "source": [
    "5ans:"
   ]
  }
 ],
 "metadata": {
  "kernelspec": {
   "display_name": "Python 3 (ipykernel)",
   "language": "python",
   "name": "python3"
  },
  "language_info": {
   "codemirror_mode": {
    "name": "ipython",
    "version": 3
   },
   "file_extension": ".py",
   "mimetype": "text/x-python",
   "name": "python",
   "nbconvert_exporter": "python",
   "pygments_lexer": "ipython3",
   "version": "3.10.8"
  }
 },
 "nbformat": 4,
 "nbformat_minor": 5
}
